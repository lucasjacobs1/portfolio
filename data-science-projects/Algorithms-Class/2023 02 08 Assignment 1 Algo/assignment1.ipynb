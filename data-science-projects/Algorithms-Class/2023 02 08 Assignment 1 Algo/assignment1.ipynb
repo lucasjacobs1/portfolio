{
 "cells": [
  {
   "cell_type": "code",
   "execution_count": 7,
   "metadata": {},
   "outputs": [],
   "source": [
    "#the max function wil return the number with the highest value\n",
    "def max(S, i, j):\n",
    "    if(S[i] > S[j]):\n",
    "        return i\n",
    "    else:\n",
    "        return j\n",
    "        \n",
    "#What this does: it will slice the list up until the lenght that is given, after this with the notation: [::-1] it will reverse\n",
    "#Finally the reversed lenght will be added with the remaining numbers in the list   \n",
    "def reverse(S, length):\n",
    "    return S[:length][::-1] + S[length:]\n",
    "\n",
    "#The algorithm that will sort a list of numbers so that is it starts from the lowest and goes up to highest\n",
    "def reverse_sort(S):\n",
    "    for k in range(len(S)):\n",
    "        maxi = 0\n",
    "        for i in range(len(S)-k):\n",
    "            maxi = max(S,maxi, i)\n",
    "        S = reverse(S,maxi+1)\n",
    "        S = reverse(S,len(S)-k)\n",
    "        \n",
    "    return S\n",
    "\n",
    "\n",
    "# Unit tests\n",
    "TestNumbers= [4,2,3,4,5]\n",
    "#Test the if statement is true \n",
    "assert max(TestNumbers, 0,1) == 0\n",
    "#Test the if statement is false\n",
    "assert max(TestNumbers, 0, 4) == 4\n",
    "\n",
    "#Test if the reverse function is doing the right thing\n",
    "assert reverse([1,2,3,4,5], 3) == [3,2,1,4,5]\n",
    "#Checks that the sorting algorithm works\n",
    "assert reverse_sort([5,4,3,2,1]) == [1,2,3,4,5]\n",
    "assert reverse_sort([1, 4, 2, 5, 3]) == [1, 2, 3, 4, 5]\n"
   ]
  },
  {
   "cell_type": "code",
   "execution_count": null,
   "metadata": {},
   "outputs": [],
   "source": []
  }
 ],
 "metadata": {
  "kernelspec": {
   "display_name": "base",
   "language": "python",
   "name": "python3"
  },
  "language_info": {
   "codemirror_mode": {
    "name": "ipython",
    "version": 3
   },
   "file_extension": ".py",
   "mimetype": "text/x-python",
   "name": "python",
   "nbconvert_exporter": "python",
   "pygments_lexer": "ipython3",
   "version": "3.9.13"
  },
  "orig_nbformat": 4,
  "vscode": {
   "interpreter": {
    "hash": "05dfaf637196149d62b3615409d845f95a8f636db6d0ed4db6bc6ec4efaf6ea7"
   }
  }
 },
 "nbformat": 4,
 "nbformat_minor": 2
}
