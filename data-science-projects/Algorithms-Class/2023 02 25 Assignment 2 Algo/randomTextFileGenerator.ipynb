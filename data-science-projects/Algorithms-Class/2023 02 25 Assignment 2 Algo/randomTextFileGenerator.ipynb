{
 "cells": [
  {
   "cell_type": "code",
   "execution_count": 1,
   "metadata": {},
   "outputs": [],
   "source": [
    "import random\n",
    "import string\n",
    "\n",
    "# Define the number of words to generate\n",
    "num_words = 100000000\n",
    "\n",
    "# Generate the words\n",
    "words = []\n",
    "for i in range(num_words):\n",
    "    word_len = random.randint(3, 10)  # Define the length of each word\n",
    "    word = ''.join(random.choices(string.ascii_lowercase, k=word_len))  # Generate the random word\n",
    "    words.append(word)\n",
    "\n",
    "# Write the words to a file\n",
    "with open('random_words100mil.txt', 'w') as file:\n",
    "    file.write('\\n'.join(words))"
   ]
  }
 ],
 "metadata": {
  "kernelspec": {
   "display_name": "base",
   "language": "python",
   "name": "python3"
  },
  "language_info": {
   "codemirror_mode": {
    "name": "ipython",
    "version": 3
   },
   "file_extension": ".py",
   "mimetype": "text/x-python",
   "name": "python",
   "nbconvert_exporter": "python",
   "pygments_lexer": "ipython3",
   "version": "3.9.13"
  },
  "orig_nbformat": 4,
  "vscode": {
   "interpreter": {
    "hash": "05dfaf637196149d62b3615409d845f95a8f636db6d0ed4db6bc6ec4efaf6ea7"
   }
  }
 },
 "nbformat": 4,
 "nbformat_minor": 2
}
