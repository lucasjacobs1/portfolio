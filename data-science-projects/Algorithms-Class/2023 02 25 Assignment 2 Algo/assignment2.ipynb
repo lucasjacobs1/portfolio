{
 "cells": [
  {
   "cell_type": "code",
   "execution_count": 27,
   "metadata": {},
   "outputs": [
    {
     "data": {
      "text/plain": [
       "705"
      ]
     },
     "execution_count": 27,
     "metadata": {},
     "output_type": "execute_result"
    }
   ],
   "source": [
    "#in this function a file path will be put in\n",
    "#it will read the file as a string with file.read and with the split function it will seperate the string in a list of words\n",
    "#returns a list of words\n",
    "def readFile(filename):\n",
    "    with open(filename, 'r') as file:\n",
    "        words = file.read().split()\n",
    "    return words\n",
    "\n",
    "#for each word in the list it will check if the argument given in the function matches the word\n",
    "#it will return the amount of how much the given argument is in the textfile\n",
    "def LinearCount(search_word):\n",
    "    amount_of_words = 0\n",
    "    words = readFile('ordered_words100mil.txt')\n",
    "    for word in words:\n",
    "        if(word == search_word):\n",
    "            amount_of_words +=1\n",
    "    return amount_of_words\n",
    "\n",
    "#it uses binary search on a ordered list of words\n",
    "#if the given search_word is found it will return the amount of how much this word occured\n",
    "#otherwise it returns 0\n",
    "def BinaryCount(search_word):\n",
    "    words = readFile('ordered_words100mil.txt')\n",
    "    words.sort()\n",
    "\n",
    "    low = 0\n",
    "    high = len(words) - 1\n",
    "    amount_of_words = 0\n",
    "\n",
    "    while low <= high:\n",
    "        mid = (low + high)//2\n",
    "        if words[mid] == search_word:\n",
    "            left = mid -1\n",
    "            right = mid + 1\n",
    "            amount_of_words = 1\n",
    "            while left >= 0 and words[left] ==search_word:\n",
    "                amount_of_words +=1\n",
    "                left -= 1\n",
    "            while right < len(words) and words[right] == search_word:\n",
    "                amount_of_words += 1\n",
    "                right += 1\n",
    "            break\n",
    "        elif words[mid] < search_word:\n",
    "            low = mid + 1\n",
    "        else:\n",
    "            high = mid - 1  \n",
    "    return amount_of_words\n",
    "\n",
    "#LinearCount(\"ggg\")\n",
    "BinaryCount(\"ggg\")"
   ]
  }
 ],
 "metadata": {
  "kernelspec": {
   "display_name": "base",
   "language": "python",
   "name": "python3"
  },
  "language_info": {
   "codemirror_mode": {
    "name": "ipython",
    "version": 3
   },
   "file_extension": ".py",
   "mimetype": "text/x-python",
   "name": "python",
   "nbconvert_exporter": "python",
   "pygments_lexer": "ipython3",
   "version": "3.9.13"
  },
  "orig_nbformat": 4,
  "vscode": {
   "interpreter": {
    "hash": "05dfaf637196149d62b3615409d845f95a8f636db6d0ed4db6bc6ec4efaf6ea7"
   }
  }
 },
 "nbformat": 4,
 "nbformat_minor": 2
}
