{
 "cells": [
  {
   "cell_type": "code",
   "execution_count": 6,
   "metadata": {},
   "outputs": [],
   "source": [
    "import string\n",
    "import random\n",
    "\n",
    "def generate_ordered_text_file(file_name, num_words):\n",
    "    with open(file_name, 'w') as file:\n",
    "        for i in range(num_words):\n",
    "            # Generate a word of length between 3 and 10 characters\n",
    "            word_length = random.randint(3, 10)\n",
    "            word = ''.join(random.choice(string.ascii_lowercase) for j in range(word_length))\n",
    "            file.write(word + '\\n')\n",
    "\n",
    "    # Sort the file in-place\n",
    "    with open(file_name, 'r+') as file:\n",
    "        lines = file.readlines()\n",
    "        lines.sort()\n",
    "        file.seek(0)\n",
    "        file.truncate()\n",
    "        file.writelines(lines)\n",
    "\n",
    "generate_ordered_text_file('ordered_words100k.txt', 100000)"
   ]
  }
 ],
 "metadata": {
  "kernelspec": {
   "display_name": "base",
   "language": "python",
   "name": "python3"
  },
  "language_info": {
   "codemirror_mode": {
    "name": "ipython",
    "version": 3
   },
   "file_extension": ".py",
   "mimetype": "text/x-python",
   "name": "python",
   "nbconvert_exporter": "python",
   "pygments_lexer": "ipython3",
   "version": "3.9.13"
  },
  "orig_nbformat": 4,
  "vscode": {
   "interpreter": {
    "hash": "05dfaf637196149d62b3615409d845f95a8f636db6d0ed4db6bc6ec4efaf6ea7"
   }
  }
 },
 "nbformat": 4,
 "nbformat_minor": 2
}
