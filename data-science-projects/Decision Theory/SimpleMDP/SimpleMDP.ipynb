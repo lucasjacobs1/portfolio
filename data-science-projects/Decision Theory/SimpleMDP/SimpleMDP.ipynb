{
 "cells": [
  {
   "attachments": {},
   "cell_type": "markdown",
   "metadata": {},
   "source": [
    "# Simple MDP:\n",
    "\n",
    "**Date:** May 14th 2023\n",
    "\n",
    "**Author:** Lucas Jacobs\n",
    "\n",
    "**Teacher:** Iman Mossavat"
   ]
  },
  {
   "attachments": {},
   "cell_type": "markdown",
   "metadata": {},
   "source": [
    "## Code"
   ]
  },
  {
   "cell_type": "code",
   "execution_count": 18,
   "metadata": {},
   "outputs": [
    {
     "name": "stdout",
     "output_type": "stream",
     "text": [
      "Optimal policy:  [1 1 1 1 0]\n"
     ]
    }
   ],
   "source": [
    "import numpy as np\n",
    "\n",
    "#The specified environment\n",
    "n_states = 5\n",
    "end_point = n_states - 1\n",
    "transition_probs = np.zeros((n_states, 2, n_states))\n",
    "rewards = np.zeros((n_states, 2, n_states))\n",
    "for s in range(n_states):\n",
    "    for a in range(2):\n",
    "        next_s = s + 2*a - 1  # 0 -> left, 1 -> right\n",
    "        if next_s == end_point:\n",
    "            rewards[s, a, next_s] = 1\n",
    "        elif next_s < 0 or next_s >= n_states:\n",
    "            rewards[s, a, s] = -1\n",
    "        else:\n",
    "            transition_probs[s, a, next_s] = 1\n",
    "            rewards[s, a, next_s] = 0 #This can be changed to minus 2, so it get penalised when making a move.\n",
    "\n",
    "# Perform GPI\n",
    "gamma = 0.1\n",
    "T = 100\n",
    "v = np.random.randn(n_states)  # random initial values\n",
    "pi = np.random.randint(2, size=(n_states,))  # random initial policy\n",
    "for t in range(T):\n",
    "    # Policy evaluation\n",
    "    q = np.zeros((n_states, 2))\n",
    "    for s in range(n_states):\n",
    "        for a in range(2):\n",
    "            #calculating the action value 'q' for each state action pair using the Bellman equation\n",
    "            q[s, a] = rewards[s, a, end_point] + gamma * transition_probs[s, a, :].dot(v)\n",
    "    v = np.max(q, axis=1)\n",
    "    \n",
    "    # Policy improvement (the greedy step in GPI)\n",
    "    pi = np.argmax(q, axis=1)\n",
    "\n",
    "# Check optimal policy\n",
    "print(\"Optimal policy: \", pi)\n",
    "\n"
   ]
  },
  {
   "attachments": {},
   "cell_type": "markdown",
   "metadata": {},
   "source": [
    "The print of the variable 'pi', stores optimal policy. So this output means that it always needs to go right when being in state 0,1,2,3.\n",
    "And when in 4, you are already there."
   ]
  },
  {
   "cell_type": "code",
   "execution_count": 19,
   "metadata": {},
   "outputs": [
    {
     "data": {
      "image/png": "[encoded data removed]",
      "text/plain": [
       "<Figure size 640x480 with 1 Axes>"
      ]
     },
     "metadata": {},
     "output_type": "display_data"
    }
   ],
   "source": [
    "import matplotlib.pyplot as plt\n",
    "\n",
    "# Plot of the value function\n",
    "plt.bar(range(n_states), v)\n",
    "plt.xlabel('State')\n",
    "plt.ylabel('Value')\n",
    "plt.title('Optimal value function')\n",
    "plt.show()"
   ]
  },
  {
   "attachments": {},
   "cell_type": "markdown",
   "metadata": {},
   "source": [
    "This bar plot show what the agents expected reward is under the optimal policy.\n",
    "The reason that state 3 has a high value, can be explained by the environment.\n",
    "Going right gives a reward of +1, and going left leads to minus 1. So the optimal policy is always going right.\n"
   ]
  },
  {
   "attachments": {},
   "cell_type": "markdown",
   "metadata": {},
   "source": [
    "## Does changing 𝛾 have any impact on the policy?\n",
    "\n",
    "The answer to this question is no.\n",
    "When changing gamma, it can affect the policy in certain cases or particular environments. \n",
    "But in this case, we only get a reward when you go fully left or right (1 or -1 score).\n",
    "So, either way, when changing gamma, it will always lead to going right, because it will always be the optimal policy.\n",
    "This is because it is a deterministic  environment, optimal policy will be decided by the rewards and the transistion between states.\n",
    "Gamma is only to effect the the current and future rewards, so not for the optimal policy."
   ]
  },
  {
   "attachments": {},
   "cell_type": "markdown",
   "metadata": {},
   "source": [
    "## Enviromnent (with slip)\n",
    "For this environment, I found it hard to come up with an environment that can do all these functions described to translate it into code.\n",
    "Therefore, I will describe what will probably happen when other functions are added like:\n",
    "- slip downwards\n",
    "- 4 moves: extra states which make the environment a lot bigger (up, down, left, right).\n",
    "\n",
    "With the feature of slipping downwards, it will bring more randomness into the environment. This will lead to finding the optimal policy more exploratory. Furthermore, when moving it will cost, therefore this can lead to different optimal policies, This is due to that the agent wants to reach the goal and tries to minimize the cost of living.\n",
    "Overall, will it depend on how high the probability is and the cost of living, and of course how the environment is structured. "
   ]
  },
  {
   "attachments": {},
   "cell_type": "markdown",
   "metadata": {},
   "source": [
    "## References\n",
    "\n",
    "- Generalized Policy Iteration(20-09-2018), medium. By Renu Khandelwal. https://arshren.medium.com/generalized-policy-iteration-c8e24e5c7971 \n",
    "- Types of Environments(), Agents. https://www.doc.ic.ac.uk/project/examples/2005/163/g0516334/environ.html#:~:text=An%20environment%20is%20deterministic%20if,actions%20selected%20by%20the%20agents. \n",
    " "
   ]
  }
 ],
 "metadata": {
  "kernelspec": {
   "display_name": "base",
   "language": "python",
   "name": "python3"
  },
  "language_info": {
   "codemirror_mode": {
    "name": "ipython",
    "version": 3
   },
   "file_extension": ".py",
   "mimetype": "text/x-python",
   "name": "python",
   "nbconvert_exporter": "python",
   "pygments_lexer": "ipython3",
   "version": "3.9.13"
  },
  "orig_nbformat": 4
 },
 "nbformat": 4,
 "nbformat_minor": 2
}
